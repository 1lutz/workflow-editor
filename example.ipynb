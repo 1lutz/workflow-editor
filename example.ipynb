{
 "cells": [
  {
   "cell_type": "code",
   "execution_count": 1,
   "metadata": {},
   "outputs": [
    {
     "data": {
      "application/vnd.jupyter.widget-view+json": {
       "model_id": "37743de3a539463797602067b5515cfd",
       "version_major": 2,
       "version_minor": 0
      },
      "text/plain": [
       "WorkflowEditor()"
      ]
     },
     "execution_count": 1,
     "metadata": {},
     "output_type": "execute_result"
    }
   ],
   "source": [
    "from src.workflow_editor import WorkflowEditor\n",
    "editor = WorkflowEditor()\n",
    "editor"
   ]
  },
  {
   "cell_type": "code",
   "execution_count": 16,
   "metadata": {},
   "outputs": [
    {
     "data": {
      "text/plain": [
       "{'type': 'Vector',\n",
       " 'operator': {'type': 'PointInPolygonFilter',\n",
       "  'params': {},\n",
       "  'sources': {'points': {'type': 'OgrSource',\n",
       "    'params': {'data': 'ne_10m_ports'}},\n",
       "   'polygons': {'type': 'OgrSource', 'params': {'data': 'germany_outline'}}}}}"
      ]
     },
     "execution_count": 16,
     "metadata": {},
     "output_type": "execute_result"
    }
   ],
   "source": [
    "editor.workflow"
   ]
  }
 ],
 "metadata": {
  "kernelspec": {
   "display_name": "Python 3 (ipykernel)",
   "language": "python",
   "name": "python3"
  },
  "language_info": {
   "codemirror_mode": {
    "name": "ipython",
    "version": 3
   },
   "file_extension": ".py",
   "mimetype": "text/x-python",
   "name": "python",
   "nbconvert_exporter": "python",
   "pygments_lexer": "ipython3",
   "version": "3.11.3"
  }
 },
 "nbformat": 4,
 "nbformat_minor": 4
}
