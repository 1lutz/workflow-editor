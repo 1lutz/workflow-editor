{
 "cells": [
  {
   "cell_type": "code",
   "execution_count": 18,
   "metadata": {},
   "outputs": [
    {
     "data": {
      "application/vnd.jupyter.widget-view+json": {
       "model_id": "e9e890dca5e8422b88a9ae32400b7b94",
       "version_major": 2,
       "version_minor": 0
      },
      "text/plain": [
       "WorkflowEditor(serverUrl='http://localhost:3030/api', token='9ea5adce-2289-4c65-ae24-4a929aa159c8')"
      ]
     },
     "execution_count": 18,
     "metadata": {},
     "output_type": "execute_result"
    }
   ],
   "source": [
    "from workflow_editor import WorkflowEditor\n",
    "editor = WorkflowEditor(\"http://localhost:3030/api\", \"9ea5adce-2289-4c65-ae24-4a929aa159c8\")\n",
    "editor"
   ]
  },
  {
   "cell_type": "code",
   "execution_count": 16,
   "metadata": {},
   "outputs": [],
   "source": [
    "editor.workflow = {\n",
    "  \"type\": \"Vector\",\n",
    "  \"operator\": {\n",
    "    \"$schema\": \"test_definitions.json\",\n",
    "    \"type\": \"PointInPolygonFilter\",\n",
    "    \"params\": {},\n",
    "    \"sources\": {\n",
    "      \"points\": {\n",
    "        \"type\": \"OgrSource\",\n",
    "        \"params\": {\n",
    "          \"data\": \"ne_10m_ports\"\n",
    "        }\n",
    "      },\n",
    "      \"polygons\": {\n",
    "        \"type\": \"OgrSource\",\n",
    "        \"params\": {\n",
    "          \"data\": \"germany_polygon\"\n",
    "        }\n",
    "      }\n",
    "    }\n",
    "  }\n",
    "}"
   ]
  },
  {
   "cell_type": "code",
   "execution_count": null,
   "metadata": {},
   "outputs": [],
   "source": []
  }
 ],
 "metadata": {
  "kernelspec": {
   "display_name": "Python 3 (ipykernel)",
   "language": "python",
   "name": "python3"
  },
  "language_info": {
   "codemirror_mode": {
    "name": "ipython",
    "version": 3
   },
   "file_extension": ".py",
   "mimetype": "text/x-python",
   "name": "python",
   "nbconvert_exporter": "python",
   "pygments_lexer": "ipython3",
   "version": "3.11.3"
  }
 },
 "nbformat": 4,
 "nbformat_minor": 4
}
