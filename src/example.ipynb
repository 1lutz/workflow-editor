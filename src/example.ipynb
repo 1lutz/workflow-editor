{
 "cells": [
  {
   "cell_type": "code",
   "execution_count": 1,
   "metadata": {},
   "outputs": [
    {
     "data": {
      "application/vnd.jupyter.widget-view+json": {
       "model_id": "b1f02df9dcb0444caed39ffb35daee55",
       "version_major": 2,
       "version_minor": 0
      },
      "text/plain": [
       "WorkflowEditor(definitions=[{'title': 'GdalSource', 'helpUrl': 'https://docs.geoengine.io/operators/gdalsource…"
      ]
     },
     "execution_count": 1,
     "metadata": {},
     "output_type": "execute_result"
    }
   ],
   "source": [
    "from workflow_editor import WorkflowEditor\n",
    "editor = WorkflowEditor()\n",
    "editor.load_definitions_from(\"file:///D:/Documents/Universit%C3%A4t/Bachelorarbeit/Code/workflow-editor/test_definitions.json\")\n",
    "editor"
   ]
  },
  {
   "cell_type": "code",
   "execution_count": 3,
   "metadata": {},
   "outputs": [
    {
     "data": {
      "text/plain": [
       "{'type': 'Vector',\n",
       " 'operator': {'type': 'PointInPolygonFilter',\n",
       "  'params': {},\n",
       "  'sources': {'points': {'type': 'OgrSource',\n",
       "    'params': {'data': 'ne_10m_ports'}},\n",
       "   'polygons': {'type': 'OgrSource', 'params': {'data': 'test'}}}}}"
      ]
     },
     "execution_count": 3,
     "metadata": {},
     "output_type": "execute_result"
    }
   ],
   "source": [
    "editor.workflow"
   ]
  }
 ],
 "metadata": {
  "kernelspec": {
   "display_name": "Python 3 (ipykernel)",
   "language": "python",
   "name": "python3"
  },
  "language_info": {
   "codemirror_mode": {
    "name": "ipython",
    "version": 3
   },
   "file_extension": ".py",
   "mimetype": "text/x-python",
   "name": "python",
   "nbconvert_exporter": "python",
   "pygments_lexer": "ipython3",
   "version": "3.11.3"
  }
 },
 "nbformat": 4,
 "nbformat_minor": 4
}
