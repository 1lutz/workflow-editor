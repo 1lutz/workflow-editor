{
 "cells": [
  {
   "cell_type": "code",
   "execution_count": 1,
   "metadata": {},
   "outputs": [
    {
     "data": {
      "application/vnd.jupyter.widget-view+json": {
       "model_id": "fd4e3aa943134397bcd87ed002806bfe",
       "version_major": 2,
       "version_minor": 0
      },
      "text/plain": [
       "WorkflowEditor(definitions=[{'title': 'GdalSource', 'inputs': [{'name': 'data', 'type': 'string'}], 'required'…"
      ]
     },
     "execution_count": 1,
     "metadata": {},
     "output_type": "execute_result"
    }
   ],
   "source": [
    "from workflow_editor import WorkflowEditor\n",
    "editor = WorkflowEditor()\n",
    "editor.load_definitions_from(\"file:///D:/Documents/Universit%C3%A4t/Bachelorarbeit/Code/workflow-editor/test_definitions.json\")\n",
    "editor"
   ]
  },
  {
   "cell_type": "code",
   "execution_count": 9,
   "metadata": {},
   "outputs": [
    {
     "data": {
      "text/plain": [
       "NoneType"
      ]
     },
     "execution_count": 9,
     "metadata": {},
     "output_type": "execute_result"
    }
   ],
   "source": [
    "type(editor.workflow)"
   ]
  }
 ],
 "metadata": {
  "kernelspec": {
   "display_name": "Python 3 (ipykernel)",
   "language": "python",
   "name": "python3"
  },
  "language_info": {
   "codemirror_mode": {
    "name": "ipython",
    "version": 3
   },
   "file_extension": ".py",
   "mimetype": "text/x-python",
   "name": "python",
   "nbconvert_exporter": "python",
   "pygments_lexer": "ipython3",
   "version": "3.11.3"
  }
 },
 "nbformat": 4,
 "nbformat_minor": 4
}
